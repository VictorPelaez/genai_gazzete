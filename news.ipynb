{
  "nbformat": 4,
  "nbformat_minor": 0,
  "metadata": {
    "colab": {
      "provenance": [],
      "gpuType": "T4",
      "authorship_tag": "ABX9TyM/s+c3nY2WfKNrUbdEcWD+",
      "include_colab_link": true
    },
    "kernelspec": {
      "name": "python3",
      "display_name": "Python 3"
    },
    "language_info": {
      "name": "python"
    },
    "accelerator": "GPU"
  },
  "cells": [
    {
      "cell_type": "markdown",
      "metadata": {
        "id": "view-in-github",
        "colab_type": "text"
      },
      "source": [
        "<a href=\"https://colab.research.google.com/github/VictorPelaez/genai_gazzete/blob/main/news.ipynb\" target=\"_parent\"><img src=\"https://colab.research.google.com/assets/colab-badge.svg\" alt=\"Open In Colab\"/></a>"
      ]
    },
    {
      "cell_type": "markdown",
      "source": [
        "# Notebook to play and create an example"
      ],
      "metadata": {
        "id": "WZ5GK93CrdEq"
      }
    },
    {
      "cell_type": "markdown",
      "source": [
        "Tutorial instructions:\n",
        "- Clone [github](https://github.com/VictorPelaez/genai_gazzete) repository\n",
        "- Install all python dependences\n",
        "- **Get api key** from [newsapi.org](https://newsapi.org/docs/client-libraries/python) and set it in config.ini file\n",
        "- Run Summarization model to get all the article summaries\n",
        "- Run Document generation with Images to get a docx file as a newsletter"
      ],
      "metadata": {
        "id": "XT5LqgjN61cn"
      }
    },
    {
      "cell_type": "code",
      "source": [
        "!git clone https://github.com/VictorPelaez/genai_gazzete.git"
      ],
      "metadata": {
        "id": "ngxjo_zcGqUN"
      },
      "execution_count": null,
      "outputs": []
    },
    {
      "cell_type": "code",
      "source": [
        "!pip install --upgrade newsapi-python transformers python-docx diffusers scipy"
      ],
      "metadata": {
        "id": "3HlYdYNtUHOB"
      },
      "execution_count": null,
      "outputs": []
    },
    {
      "cell_type": "code",
      "source": [
        "from genai_gazzete import utils\n",
        "from newsapi import NewsApiClient\n",
        "\n",
        "# -----------------------------------------------------\n",
        "# Get news from fdate\n",
        "# -----------------------------------------------------\n",
        "\n",
        "fdate = '2023-07-31'\n",
        "\n",
        "config = utils.readConfig()\n",
        "d_config = dict(config.items('DEFAULT'))\n",
        "\n",
        "newsapi = NewsApiClient(api_key=d_config['api_key'])\n",
        "all_articles = newsapi.get_everything(q='generative ai llms',\n",
        "                                      language='en',\n",
        "                                      from_param=fdate,\n",
        "                                      sort_by='relevancy',\n",
        "                                      page_size=20)\n",
        "\n",
        "print(\"#articles: \", len(all_articles[\"articles\"]))"
      ],
      "metadata": {
        "id": "pzy1S7y4IUS5"
      },
      "execution_count": null,
      "outputs": []
    },
    {
      "cell_type": "markdown",
      "source": [
        "## Summarization Model"
      ],
      "metadata": {
        "id": "zTYVUVDHedgf"
      }
    },
    {
      "cell_type": "code",
      "source": [
        "import pandas as pd\n",
        "import time\n",
        "from bs4 import BeautifulSoup\n",
        "import requests\n",
        "import re\n",
        "from transformers import pipeline\n",
        "\n",
        "import warnings\n",
        "warnings.filterwarnings('ignore')\n",
        "\n",
        "# -----------------------------------------------------\n",
        "# Run Summarization model for all the articles\n",
        "# -----------------------------------------------------\n",
        "\n",
        "model_name = \"sshleifer/distilbart-cnn-12-6\" # other models: \"sshleifer/bart-large-cnn\" \"sshleifer/distilbart-xsum-12-1\" \"google/flan-t5-base\"\n",
        "summarizer = pipeline('summarization', model=\"sshleifer/distilbart-cnn-12-6\", device=0) # T4 GPU in Colab\n",
        "\n",
        "dash_line = '-'.join('' for x in range(100))\n",
        "\n",
        "## Data to feed\n",
        "N = int(round(len(all_articles[\"articles\"])*0.1, 0)) # Number of summaries to show, verbose\n",
        "L = 3000 # Context size\n",
        "df = pd.DataFrame(columns = [\"source\", \"url\", \"title\", \"description\", \"len_text\", \"summary\"])\n",
        "\n",
        "for i, a in enumerate(all_articles[\"articles\"]):\n",
        "\n",
        "  start = time.time()\n",
        "  print(dash_line)\n",
        "  print('Example ', i + 1)\n",
        "  print(dash_line)\n",
        "\n",
        "  # read url HTLM web\n",
        "  page = requests.get(a[\"url\"])\n",
        "  soup = BeautifulSoup(page.content, 'html.parser')\n",
        "  result = soup.find_all([\"p\",\"i\"]) # Slashdot is <i>\n",
        "  ARTICLE = \"\"\n",
        "  for part in result:\n",
        "    if (part.get(\"class\")==None) and len(ARTICLE)<L:\n",
        "      ARTICLE = ARTICLE + \" \" + part.get_text()\n",
        "\n",
        "  ARTICLE = utils.clear_article(ARTICLE)\n",
        "\n",
        "  if len(ARTICLE)>0:\n",
        "    summarized_article = summarizer(ARTICLE)[0][\"summary_text\"] # Inference summarization model\n",
        "    summarized_article = re.sub(r'\\s([?.!\"](?:\\s|$))', r'\\1', summarized_article) # Remove whitespaces\n",
        "    summarized_article = summarized_article.lstrip().capitalize()\n",
        "\n",
        "  else:\n",
        "    summarized_article = \"empty\"\n",
        "\n",
        "  df = df.append({'source': a['source']['name'],\n",
        "                  'url': a[\"url\"],\n",
        "                  'title': a[\"title\"],\n",
        "                  'description': a[\"description\"],\n",
        "                  'len_text': len(ARTICLE),\n",
        "                  'summary': summarized_article}, ignore_index = True)\n",
        "\n",
        "  # print samples\n",
        "  if (i<N) and (len(ARTICLE)>0) :\n",
        "    print(a['source']['name'], a[\"url\"])\n",
        "    print('Description:  ', a['description'])\n",
        "    print('LLM Summary')\n",
        "    print(df.iloc[i][\"summary\"])\n",
        "\n",
        "  end = time.time()\n",
        "  print(end - start)\n",
        "  print(dash_line)\n",
        "  print()\n",
        "\n",
        "df = utils.remove_summaries(df)\n",
        "print('Final number of articles: ' + str(len(df. index)))"
      ],
      "metadata": {
        "id": "aEtaBo8_WJ7j"
      },
      "execution_count": null,
      "outputs": []
    },
    {
      "cell_type": "code",
      "source": [
        "df.head(3)"
      ],
      "metadata": {
        "id": "XkZ2XpEUucKt"
      },
      "execution_count": null,
      "outputs": []
    },
    {
      "cell_type": "code",
      "source": [
        "# top 10\n",
        "df = df.head(10)"
      ],
      "metadata": {
        "id": "OVb2SDz7nFUw"
      },
      "execution_count": null,
      "outputs": []
    },
    {
      "cell_type": "markdown",
      "source": [
        "## Document Generation with images"
      ],
      "metadata": {
        "id": "ICoqPBw5jNTs"
      }
    },
    {
      "cell_type": "code",
      "source": [
        "import os\n",
        "from google.colab import drive\n",
        "\n",
        "# Mount Google Drive\n",
        "drive.mount('/content/drive')"
      ],
      "metadata": {
        "id": "pf2a_k-t-xKi"
      },
      "execution_count": null,
      "outputs": []
    },
    {
      "cell_type": "code",
      "source": [
        "# import stable diffusion model\n",
        "\n",
        "import torch\n",
        "from diffusers import StableDiffusionPipeline\n",
        "\n",
        "model_id = \"CompVis/stable-diffusion-v1-4\"\n",
        "\n",
        "device = \"cuda\" if torch.cuda.is_available() else \"cpu\"\n",
        "pipe = StableDiffusionPipeline.from_pretrained(model_id, torch_dtype=torch.float16).to(device)"
      ],
      "metadata": {
        "id": "9ycpLJSv1tI4"
      },
      "execution_count": null,
      "outputs": []
    },
    {
      "cell_type": "code",
      "source": [
        "from genai_gazzete import functions_doc\n",
        "from docx import Document\n",
        "from docx.shared import Inches\n",
        "from docx.enum.text import WD_ALIGN_PARAGRAPH\n",
        "from datetime import date\n",
        "\n",
        "# -----------------------------------------------------\n",
        "# document creation\n",
        "# -----------------------------------------------------\n",
        "\n",
        "today = date.today()\n",
        "document = Document()\n",
        "\n",
        "document.add_picture('genai_gazzete/banner_top.png', width=Inches(6), height=Inches(1))\n",
        "last_paragraph = document.paragraphs[-1]\n",
        "last_paragraph.alignment = WD_ALIGN_PARAGRAPH.CENTER\n",
        "\n",
        "document.add_heading(\"10 Most Relevant Articles about Generative AI and LLMs in a Nutshell!\", level=0)\n",
        "last_paragraph = document.paragraphs[-1]\n",
        "last_paragraph.alignment = WD_ALIGN_PARAGRAPH.CENTER\n",
        "\n",
        "p = document.add_paragraph()\n",
        "runner = p.add_run(\"dates: \" + fdate + \" - \" + str(today)).italic = True\n",
        "last_paragraph = document.paragraphs[-1]\n",
        "last_paragraph.alignment = WD_ALIGN_PARAGRAPH.RIGHT\n",
        "\n",
        "for r in df.index:\n",
        "  # 1. add title\n",
        "  document.add_heading('#' + str(r+1) + '.   [' + df[\"source\"][r] + '] ' + df[\"title\"][r], level=1)\n",
        "  # 2. add link\n",
        "  p = document.add_paragraph()\n",
        "  functions_doc.add_hyperlink(p, 'Original article', df[\"url\"][r])\n",
        "\n",
        "  # 3. create image and add it\n",
        "  # prompt_style = \"sci-fi painting by Ian McQue:1 sci-fi painting by Simon Stalenhag:0.5, pen and ink, pastel colors\"\n",
        "  prompt_style= \"sci-fi painting style by Simon Stalenhag:0.8 by Ian McQue:0.2, pen and ink, primary pastel colors\"\n",
        "  prompt = df[\"title\"][r] + prompt_style\n",
        "  num_images_per_prompt = 1\n",
        "  images = pipe(prompt,\n",
        "                width=1024,\n",
        "                height=512,\n",
        "                num_images_per_prompt=num_images_per_prompt).images\n",
        "\n",
        "  for idx, im in enumerate(images):\n",
        "    im.save(\"/content/drive/MyDrive/LLMs/images/image_\"+str(r)+\"_\"+str(idx)+\".png\")\n",
        "  document.add_picture(\"/content/drive/MyDrive/LLMs/images/image_\"+str(r)+\"_0.png\", width=Inches(4.1), height=Inches(1.4))\n",
        "  last_paragraph = document.paragraphs[-1]\n",
        "  last_paragraph.alignment = WD_ALIGN_PARAGRAPH.CENTER\n",
        "\n",
        "  # 4. add summary\n",
        "  document.add_paragraph(df[\"summary\"][r], style='Intense Quote')\n",
        "  last_paragraph = document.paragraphs[-1]\n",
        "  last_paragraph.alignment = WD_ALIGN_PARAGRAPH.JUSTIFY\n",
        "  p = document.add_paragraph()\n",
        "  p.paragraph_format.line_spacing = Inches(0.2)\n",
        "\n",
        "file_name = \"summarized_articles\" + \"_\" + today.strftime('%m_%d_%Y') + \".docx\"\n",
        "document.save('/content/drive/MyDrive/LLMs/'+file_name)"
      ],
      "metadata": {
        "id": "ws6F3mGbo2OJ"
      },
      "execution_count": null,
      "outputs": []
    },
    {
      "cell_type": "code",
      "source": [],
      "metadata": {
        "id": "oqlXnBHnxLAo"
      },
      "execution_count": null,
      "outputs": []
    }
  ]
}